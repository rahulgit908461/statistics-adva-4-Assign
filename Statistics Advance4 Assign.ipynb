{
 "cells": [
  {
   "cell_type": "code",
   "execution_count": 1,
   "id": "73b3079a-112a-42a3-bfe6-df4e86cd4035",
   "metadata": {},
   "outputs": [],
   "source": [
    "#Q1.  What is the difference between a t-test and a z-test? Provide an example scenario where you would\n",
    "#use each type of test."
   ]
  },
  {
   "cell_type": "code",
   "execution_count": 2,
   "id": "6555e785-4427-4d71-9a49-b0a7d82bc537",
   "metadata": {},
   "outputs": [],
   "source": [
    "# ans A z-test is used to test a Null Hypothesis if the population variance is known, or if the sample size\n",
    "#is larger than 30, for an unknown population variance. A t-test is used when the sample size is less than \n",
    "#30 and the population variance is unknown."
   ]
  },
  {
   "cell_type": "code",
   "execution_count": 3,
   "id": "28d6e71d-7874-469f-b7bb-f582364a689d",
   "metadata": {},
   "outputs": [],
   "source": [
    "#Q2: Differentiate between one-tailed and two-tailed tests."
   ]
  },
  {
   "cell_type": "code",
   "execution_count": 4,
   "id": "c3f19041-9425-4755-b96d-2e265022a7e8",
   "metadata": {},
   "outputs": [],
   "source": [
    "# Ans. A one-tailed test is used to ascertain if there is any relationship between variables in a single \n",
    "#direction, i.e. left or right. As against this, the two-tailed test is used to identify whether or not\n",
    "#there is any relationship between variables in either direction."
   ]
  },
  {
   "cell_type": "code",
   "execution_count": 5,
   "id": "23b1d8e1-26dd-49d7-8bdf-91fad913b0ec",
   "metadata": {},
   "outputs": [],
   "source": [
    "#Q3. : Explain the concept of Type 1 and Type 2 errors in hypothesis testing. Provide an example scenario for\n",
    "#each type of error"
   ]
  },
  {
   "cell_type": "code",
   "execution_count": 6,
   "id": "fd90b3a0-64ad-4424-96bf-b452051a7fe2",
   "metadata": {},
   "outputs": [],
   "source": [
    "# Ans There are two errors that could potentially occur: Type I error (false positive): the test result \n",
    "#says you have coronavirus, but you actually don't. Type II error (false negative): the test result says \n",
    "#you don't have coronavirus, but you actually do."
   ]
  },
  {
   "cell_type": "code",
   "execution_count": 7,
   "id": "7e46ec19-87e0-426c-9e87-a31404028803",
   "metadata": {},
   "outputs": [],
   "source": [
    "#Q4.  Explain Bayes's theorem with an example."
   ]
  },
  {
   "cell_type": "code",
   "execution_count": 8,
   "id": "4fd6130b-110f-4cd6-8863-43213113acce",
   "metadata": {},
   "outputs": [],
   "source": [
    "#Bayes theorem gives the probability of an “event” with the given information on “tests”. There is a\n",
    "#difference between “events” and “tests”. For example there is a test for liver disease, which is different \n",
    "#from actually having the liver disease, i.e. an event. Rare events might be having a higher false positive\n",
    "#rate."
   ]
  },
  {
   "cell_type": "code",
   "execution_count": 9,
   "id": "13ac0e34-385a-4f14-8c5a-a35d053897cb",
   "metadata": {},
   "outputs": [],
   "source": [
    "#Q5: What is a confidence interval? How to calculate the confidence interval, explain with an example."
   ]
  },
  {
   "cell_type": "code",
   "execution_count": 10,
   "id": "35d102a8-f9df-4968-8621-0f5255bec280",
   "metadata": {},
   "outputs": [],
   "source": [
    "# Ans Confidence, in statistics, is another way to describe probability. For example, if you construct a \n",
    "#confidence interval with a 95% confidence level, you are confident that 95 out of 100 times the estimate \n",
    "#will fall between the upper and lower values specified by the confidence interval."
   ]
  },
  {
   "cell_type": "code",
   "execution_count": 11,
   "id": "6a819d2f-3a8a-42d0-98df-66276d42d59f",
   "metadata": {},
   "outputs": [],
   "source": [
    "#Q6. Use Bayes' Theorem to calculate the probability of an event occurring given prior knowledge of the\n",
    "#event's probability and new evidence. Provide a sample problem and solution"
   ]
  },
  {
   "cell_type": "code",
   "execution_count": 12,
   "id": "002f1b40-bb58-4c24-9bd8-e1b35735fb4c",
   "metadata": {},
   "outputs": [],
   "source": [
    "# Ans Bayes theorem gives the probability of an “event” with the given information on “tests”. \n",
    "# let't defined this event and knowledge (a,b)\n",
    "# P(a and b)=p(b and a )   , so P(a)*P(b/a)=P(b)*P(a/b)"
   ]
  },
  {
   "cell_type": "code",
   "execution_count": 13,
   "id": "2458d2d4-73ee-43b1-9065-5b4d0beeae1a",
   "metadata": {},
   "outputs": [],
   "source": [
    "#Q7. Calculate the 95% confidence interval for a sample of data with a mean of 50 and a standard deviation\n",
    "#of 5. Interpret the results."
   ]
  },
  {
   "cell_type": "code",
   "execution_count": 14,
   "id": "f81b79df-85a3-4dc6-b4f6-a15e062e5f10",
   "metadata": {},
   "outputs": [],
   "source": [
    "# solution\n",
    "#here given sample of mean =50 and s=5 ,CI=.95 , significient value =0.05\n",
    "#so are left side under the curve is 1-0.025=0.975\n",
    "# then by z-table z value -1.96 to +1.96 "
   ]
  },
  {
   "cell_type": "code",
   "execution_count": 16,
   "id": "9d62090e-3abe-4b8d-9d4a-25751519fe56",
   "metadata": {},
   "outputs": [],
   "source": [
    "#Q8.What is the margin of error in a confidence interval? How does sample size affect the margin of error?\n",
    "#Provide an example of a scenario where a larger sample size would result in a smaller margin of error."
   ]
  },
  {
   "cell_type": "code",
   "execution_count": 17,
   "id": "11ec76b2-2af2-450c-b941-a22e97f727dc",
   "metadata": {},
   "outputs": [],
   "source": [
    "# Ans The doubling the sample size reduces the value of margin of error, and it increases the lower limit \n",
    "#and reduces the upper limit. Hence, doubling the sample size reduces the confidence width, which means that \n",
    "#the size of the confidence interval will reduce."
   ]
  },
  {
   "cell_type": "code",
   "execution_count": 18,
   "id": "c015f845-104d-46fd-9b71-3687469e1621",
   "metadata": {},
   "outputs": [],
   "source": [
    "#Q9. Calculate the z-score for a data point with a value of 75, a population mean of 70, and a population\n",
    "#standard deviation of 5. Interpret the results."
   ]
  },
  {
   "cell_type": "code",
   "execution_count": 19,
   "id": "1f995f0a-5f97-4503-8d36-afa453b7e6cb",
   "metadata": {},
   "outputs": [],
   "source": [
    "# Ans sample mean =75, population mean =70, population std deviation =5\n",
    "# z= 75-70/5=1 "
   ]
  },
  {
   "cell_type": "code",
   "execution_count": 20,
   "id": "12b883df-6707-4a12-9f82-11c8e2376db0",
   "metadata": {},
   "outputs": [],
   "source": [
    "#Q10. In a study of the effectiveness of a new weight loss drug, a sample of 50 participants lost an average\n",
    "#of 6 pounds with a standard deviation of 2.5 pounds. Conduct a hypothesis test to determine if the drug is\n",
    "#significantly effective at a 95% confidence level using a t-test."
   ]
  },
  {
   "cell_type": "code",
   "execution_count": 21,
   "id": "21f0178f-4056-4f19-9123-229eaefb8b6d",
   "metadata": {},
   "outputs": [],
   "source": [
    "# Solution \n",
    "# n=50 , sample mean =6 , sample std deviation =2.5 ,CI=.95 , significient=0.05 , degree of freedom=n-1\n",
    "# df = 50-1=49, \n",
    "# we know formula is t= (sample mean-population mean)/sample std deviation /under root of sample size"
   ]
  },
  {
   "cell_type": "code",
   "execution_count": 22,
   "id": "6cf5cf9b-0f51-451e-b476-6d10dfc411db",
   "metadata": {},
   "outputs": [],
   "source": [
    "#Q12.A researcher is testing the effectiveness of two different teaching methods on student performance.\n",
    "#Sample A has a mean score of 85 with a standard deviation of 6, while sample B has a mean score of 82\n",
    "#with a standard deviation of 5. Conduct a hypothesis test to determine if the two teaching methods have a\n",
    "#significant difference in student performance using a t-test with a significance level of 0.01."
   ]
  },
  {
   "cell_type": "code",
   "execution_count": 24,
   "id": "ad734b01-e4a5-457d-ae0d-8f41659526fb",
   "metadata": {},
   "outputs": [],
   "source": [
    "#solution\n",
    "# sample a mean =85, s=6 , \n",
    "# sample b mean 82 , s=5\n",
    "# conduct hypothysis two teaching method n=2 , significient level =0.01 , df=n-2-1=1 then t value for this in \n",
    "# t-table t=63.66\n",
    "# we know the formula for t= (sample mean -population mean)/sample std deviation /under root of sample size\n",
    "#t1=(85-population mean)/6/under root of 2\n",
    "# t2=(82-population mean)/5/under root of 2"
   ]
  },
  {
   "cell_type": "code",
   "execution_count": 25,
   "id": "7b998150-0e1c-4dda-a691-55c953973fa4",
   "metadata": {},
   "outputs": [],
   "source": [
    "# A population has a mean of 60 and a standard deviation of 8. A sample of 50 observations has a mean\n",
    "#of 65. Calculate the 90% confidence interval for the true population mean."
   ]
  },
  {
   "cell_type": "code",
   "execution_count": 26,
   "id": "56582abc-3575-4752-b37b-c23c8d2d49d9",
   "metadata": {},
   "outputs": [],
   "source": [
    "# given Population mean =60 , popolation std deviation =8\n",
    "# sample size n=50 , sample mean =65 , CI =.90 , significient =1-.90=.1, area =1-.05=0.95\n",
    "# then by z table for area=0.95 , z value is 1.65 \n",
    "# We know the formula for CI uper bound and lower bound is \n",
    "#CI lower = sample men-z value*std devia/under root of sample size \n",
    "# Ci lower =(65-1.65*8)/under root of 50=7.325\n",
    "#CI upper =11.0591"
   ]
  },
  {
   "cell_type": "code",
   "execution_count": 27,
   "id": "f1d51322-51e5-4faf-8c46-8cd6fc26f112",
   "metadata": {},
   "outputs": [],
   "source": [
    "#Q14. In a study of the effects of caffeine on reaction time, a sample of 30 participants had an average\n",
    "#reaction time of 0.25 seconds with a standard deviation of 0.05 seconds. Conduct a hypothesis test to\n",
    "#determine if the caffeine has a significant effect on reaction time at a 90% confidence level using a t-test."
   ]
  },
  {
   "cell_type": "code",
   "execution_count": null,
   "id": "deb4dc86-612e-430b-aa7a-99710c134f44",
   "metadata": {},
   "outputs": [],
   "source": [
    "# Given sample size =30, sample avg mean =0.25 , s=0.05, CI =0.90 , Then significient =1-.90=0.1\n",
    "# degree of freedom =n-1 = 30-1=29 \n",
    "# for df =29, significient value =0.1 t -table and t value is 1.311\n",
    "# we know that t= (sample mean-population mean)/sample std deviation / under root of sample size\n",
    "# t= 0.25-"
   ]
  }
 ],
 "metadata": {
  "kernelspec": {
   "display_name": "Python 3 (ipykernel)",
   "language": "python",
   "name": "python3"
  },
  "language_info": {
   "codemirror_mode": {
    "name": "ipython",
    "version": 3
   },
   "file_extension": ".py",
   "mimetype": "text/x-python",
   "name": "python",
   "nbconvert_exporter": "python",
   "pygments_lexer": "ipython3",
   "version": "3.10.8"
  }
 },
 "nbformat": 4,
 "nbformat_minor": 5
}
